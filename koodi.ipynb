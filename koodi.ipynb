{
 "cells": [
  {
   "cell_type": "code",
   "execution_count": 72,
   "metadata": {},
   "outputs": [],
   "source": [
    "import geopandas as gpd\n",
    "\n",
    "import pandas as pd\n",
    "\n",
    "g = gpd.read_file('pno.shp')\n",
    "d = pd.read_csv('postinum.csv', sep = ',', dtype = str)"
   ]
  },
  {
   "cell_type": "code",
   "execution_count": 73,
   "metadata": {},
   "outputs": [
    {
     "name": "stdout",
     "output_type": "stream",
     "text": [
      "      num\n",
      "7   00180\n",
      "8   00420\n",
      "9   00560\n",
      "10  07170\n",
      "11  91910\n"
     ]
    }
   ],
   "source": [
    "print(d.tail())"
   ]
  },
  {
   "cell_type": "code",
   "execution_count": 74,
   "metadata": {},
   "outputs": [
    {
     "name": "stdout",
     "output_type": "stream",
     "text": [
      "   objectid posti_alue             nimi             namn kunta  kuntanro  \\\n",
      "0       1.0      90510       Hietasaari       Hietasaari   564     564.0   \n",
      "1      38.0      92520           Sipola           Sipola   791     791.0   \n",
      "2       2.0      90520  Taskila-Toppila  Taskila-Toppila   564     564.0   \n",
      "3       3.0      90530       Välivainio       Välivainio   564     564.0   \n",
      "4       4.0      90540      Kuivasjärvi      Kuivasjärvi   564     564.0   \n",
      "\n",
      "    vuosi     pinta_ala    shape_leng  \\\n",
      "0  2018.0  4.157052e+06  15065.912188   \n",
      "1  2018.0  5.492332e+07  30283.670048   \n",
      "2  2018.0  3.718174e+06  10273.666383   \n",
      "3  2018.0  2.283165e+06   6691.718986   \n",
      "4  2018.0  2.773229e+07  24677.744795   \n",
      "\n",
      "                                            geometry  \n",
      "0  (POLYGON ((425586.4833000014 7212020.5814, 425...  \n",
      "1  POLYGON ((445097.126600001 7139231.366, 444832...  \n",
      "2  POLYGON ((427575.4316000016 7212643.481000006,...  \n",
      "3  POLYGON ((429093.5459000021 7212287.617899999,...  \n",
      "4  POLYGON ((430210.8813000014 7215603.0889, 4301...  \n",
      "     num\n",
      "0  15230\n",
      "1  15240\n",
      "2  15230\n",
      "3  91630\n",
      "4  91660\n"
     ]
    }
   ],
   "source": [
    "print(g.head())\n",
    "print(d.head())\n"
   ]
  },
  {
   "cell_type": "code",
   "execution_count": 75,
   "metadata": {},
   "outputs": [],
   "source": [
    "g['answ'] = d['num'].astype(str)\n",
    "\n",
    "    "
   ]
  },
  {
   "cell_type": "code",
   "execution_count": 76,
   "metadata": {},
   "outputs": [
    {
     "name": "stdout",
     "output_type": "stream",
     "text": [
      "   objectid posti_alue             nimi             namn kunta  kuntanro  \\\n",
      "0       1.0      90510       Hietasaari       Hietasaari   564     564.0   \n",
      "1      38.0      92520           Sipola           Sipola   791     791.0   \n",
      "2       2.0      90520  Taskila-Toppila  Taskila-Toppila   564     564.0   \n",
      "3       3.0      90530       Välivainio       Välivainio   564     564.0   \n",
      "4       4.0      90540      Kuivasjärvi      Kuivasjärvi   564     564.0   \n",
      "\n",
      "    vuosi     pinta_ala    shape_leng  \\\n",
      "0  2018.0  4.157052e+06  15065.912188   \n",
      "1  2018.0  5.492332e+07  30283.670048   \n",
      "2  2018.0  3.718174e+06  10273.666383   \n",
      "3  2018.0  2.283165e+06   6691.718986   \n",
      "4  2018.0  2.773229e+07  24677.744795   \n",
      "\n",
      "                                            geometry   answ  \n",
      "0  (POLYGON ((425586.4833000014 7212020.5814, 425...  15230  \n",
      "1  POLYGON ((445097.126600001 7139231.366, 444832...  15240  \n",
      "2  POLYGON ((427575.4316000016 7212643.481000006,...  15230  \n",
      "3  POLYGON ((429093.5459000021 7212287.617899999,...  91630  \n",
      "4  POLYGON ((430210.8813000014 7215603.0889, 4301...  91660  \n"
     ]
    }
   ],
   "source": [
    "print(g.head())"
   ]
  },
  {
   "cell_type": "code",
   "execution_count": 77,
   "metadata": {},
   "outputs": [],
   "source": [
    "b = g[['posti_alue', 'answ', 'geometry']]\n",
    "am = b.groupby('answ')"
   ]
  },
  {
   "cell_type": "code",
   "execution_count": 78,
   "metadata": {},
   "outputs": [],
   "source": [
    "kakka = pd.DataFrame()\n",
    "kakka['i'] = None\n",
    "kakka['maara'] = None\n",
    "\n",
    "for i, group in am:\n",
    "    kakka.loc[i, 'i'] = i\n",
    "    kakka.loc[i, 'maara'] = len(group)"
   ]
  },
  {
   "cell_type": "code",
   "execution_count": 87,
   "metadata": {},
   "outputs": [],
   "source": [
    "b = b.merge(kakka, left_on = 'posti_alue', right_on = 'i')\n",
    "\n"
   ]
  },
  {
   "cell_type": "code",
   "execution_count": 90,
   "metadata": {},
   "outputs": [
    {
     "name": "stdout",
     "output_type": "stream",
     "text": [
      "   posti_alue answ                                           geometry      i  \\\n",
      "0       00100  NaN  POLYGON ((385653.8927999996 6671591.047499999,...  00100   \n",
      "1       00180  NaN  POLYGON ((383948.4211000009 6670035.711500002,...  00180   \n",
      "2       00420  NaN  POLYGON ((381922.694600001 6679369.366800001, ...  00420   \n",
      "3       00220  NaN  POLYGON ((384338.4592000013 6669981.956800003,...  00220   \n",
      "4       00560  NaN  POLYGON ((387510.3558999998 6675424.795000002,...  00560   \n",
      "5       15230  NaN  POLYGON ((433724.0027000001 6771275.551300002,...  15230   \n",
      "6       15240  NaN  POLYGON ((428678.6063000001 6764096.980299998,...  15240   \n",
      "7       91630  NaN  POLYGON ((503683.229100001 7194489.495000005, ...  91630   \n",
      "8       91660  NaN  POLYGON ((471325.5186999999 7161610.738700006,...  91660   \n",
      "9       91910  NaN  POLYGON ((430333.6614000006 7190402.8466, 4292...  91910   \n",
      "10      07170  NaN  POLYGON ((413499.5653999997 6704207.039500004,...  07170   \n",
      "\n",
      "   maara  \n",
      "0      1  \n",
      "1      1  \n",
      "2      1  \n",
      "3      1  \n",
      "4      1  \n",
      "5      2  \n",
      "6      1  \n",
      "7      1  \n",
      "8      1  \n",
      "9      1  \n",
      "10     1  \n"
     ]
    }
   ],
   "source": [
    "print(b)"
   ]
  },
  {
   "cell_type": "code",
   "execution_count": null,
   "metadata": {},
   "outputs": [],
   "source": []
  }
 ],
 "metadata": {
  "kernelspec": {
   "display_name": "Python 3",
   "language": "python",
   "name": "python3"
  },
  "language_info": {
   "codemirror_mode": {
    "name": "ipython",
    "version": 3
   },
   "file_extension": ".py",
   "mimetype": "text/x-python",
   "name": "python",
   "nbconvert_exporter": "python",
   "pygments_lexer": "ipython3",
   "version": "3.6.5"
  }
 },
 "nbformat": 4,
 "nbformat_minor": 2
}
