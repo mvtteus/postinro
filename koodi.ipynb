{
 "cells": [
  {
   "cell_type": "code",
   "execution_count": 44,
   "metadata": {},
   "outputs": [],
   "source": [
    "import geopandas as gpd\n",
    "\n",
    "import pandas as pd\n",
    "\n",
    "alueet = gpd.read_file('pno.shp')\n",
    "data = pd.read_csv('f2f_kodit.csv', sep = ',', dtype = str, encoding='cp1252',  error_bad_lines=False) "
   ]
  },
  {
   "cell_type": "code",
   "execution_count": 46,
   "metadata": {},
   "outputs": [],
   "source": [
    "#print(alueet.head())\n",
    "#print(data)\n"
   ]
  },
  {
   "cell_type": "code",
   "execution_count": 48,
   "metadata": {},
   "outputs": [],
   "source": [
    "alueet['answ'] = data['koti'].astype(str)\n",
    "\n",
    "    "
   ]
  },
  {
   "cell_type": "code",
   "execution_count": 49,
   "metadata": {},
   "outputs": [
    {
     "name": "stdout",
     "output_type": "stream",
     "text": [
      "   objectid posti_alue             nimi             namn kunta  kuntanro  \\\n",
      "0       1.0      90510       Hietasaari       Hietasaari   564     564.0   \n",
      "1      38.0      92520           Sipola           Sipola   791     791.0   \n",
      "2       2.0      90520  Taskila-Toppila  Taskila-Toppila   564     564.0   \n",
      "3       3.0      90530       Välivainio       Välivainio   564     564.0   \n",
      "4       4.0      90540      Kuivasjärvi      Kuivasjärvi   564     564.0   \n",
      "\n",
      "    vuosi     pinta_ala    shape_leng  \\\n",
      "0  2018.0  4.157052e+06  15065.912188   \n",
      "1  2018.0  5.492332e+07  30283.670048   \n",
      "2  2018.0  3.718174e+06  10273.666383   \n",
      "3  2018.0  2.283165e+06   6691.718986   \n",
      "4  2018.0  2.773229e+07  24677.744795   \n",
      "\n",
      "                                            geometry   answ  \n",
      "0  (POLYGON ((425586.4833000014 7212020.5814, 425...  02650  \n",
      "1  POLYGON ((445097.126600001 7139231.366, 444832...  00150  \n",
      "2  POLYGON ((427575.4316000016 7212643.481000006,...  00700  \n",
      "3  POLYGON ((429093.5459000021 7212287.617899999,...  00570  \n",
      "4  POLYGON ((430210.8813000014 7215603.0889, 4301...  00960  \n"
     ]
    }
   ],
   "source": [
    "print(alueet.head())"
   ]
  },
  {
   "cell_type": "code",
   "execution_count": 50,
   "metadata": {},
   "outputs": [],
   "source": [
    "b = alueet[['posti_alue', 'answ', 'geometry']]\n",
    "am = b.groupby('answ')"
   ]
  },
  {
   "cell_type": "code",
   "execution_count": 51,
   "metadata": {},
   "outputs": [],
   "source": [
    "kakka = gpd.GeoDataFrame()\n",
    "kakka['i'] = None\n",
    "kakka['maara'] = None\n",
    "\n",
    "for i, group in am:\n",
    "    kakka.loc[i, 'i'] = i\n",
    "    kakka.loc[i, 'maara'] = len(group)"
   ]
  },
  {
   "cell_type": "code",
   "execution_count": 52,
   "metadata": {},
   "outputs": [],
   "source": [
    "b = b.merge(kakka, left_on = 'posti_alue', right_on = 'i')\n",
    "\n"
   ]
  },
  {
   "cell_type": "code",
   "execution_count": 53,
   "metadata": {},
   "outputs": [
    {
     "data": {
      "text/plain": [
       "<matplotlib.axes._subplots.AxesSubplot at 0x7f0cea4fdcc0>"
      ]
     },
     "execution_count": 53,
     "metadata": {},
     "output_type": "execute_result"
    },
    {
     "data": {
      "image/png": "[encoded data removed]",
      "text/plain": [
       "<Figure size 432x288 with 1 Axes>"
      ]
     },
     "metadata": {},
     "output_type": "display_data"
    }
   ],
   "source": [
    "b.plot(column = 'maara')"
   ]
  },
  {
   "cell_type": "code",
   "execution_count": 55,
   "metadata": {},
   "outputs": [],
   "source": [
    "poasd = 'f2f_kodit.shp'\n",
    "b.to_file(poasd)"
   ]
  },
  {
   "cell_type": "code",
   "execution_count": null,
   "metadata": {},
   "outputs": [],
   "source": []
  }
 ],
 "metadata": {
  "kernelspec": {
   "display_name": "Python 3",
   "language": "python",
   "name": "python3"
  },
  "language_info": {
   "codemirror_mode": {
    "name": "ipython",
    "version": 3
   },
   "file_extension": ".py",
   "mimetype": "text/x-python",
   "name": "python",
   "nbconvert_exporter": "python",
   "pygments_lexer": "ipython3",
   "version": "3.6.5"
  }
 },
 "nbformat": 4,
 "nbformat_minor": 2
}
